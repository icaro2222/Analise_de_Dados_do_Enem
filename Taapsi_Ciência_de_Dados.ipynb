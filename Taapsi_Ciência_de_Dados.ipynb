{
  "cells": [
    {
      "cell_type": "markdown",
      "metadata": {
        "id": "view-in-github",
        "colab_type": "text"
      },
      "source": [
        "<a href=\"https://colab.research.google.com/github/icaro2222/Analise_de_Dados_do_Enem/blob/main/Taapsi_Ci%C3%AAncia_de_Dados.ipynb\" target=\"_parent\"><img src=\"https://colab.research.google.com/assets/colab-badge.svg\" alt=\"Open In Colab\"/></a>"
      ]
    },
    {
      "cell_type": "markdown",
      "metadata": {
        "id": "3o3vUrMyQTa9"
      },
      "source": [
        "#                  Trabalho de Desenvolvimento para Análise de Dados  \n",
        "### Desenvolvido por: Ícaro Dias dos Santos\n",
        "---"
      ],
      "id": "3o3vUrMyQTa9"
    },
    {
      "cell_type": "markdown",
      "metadata": {
        "id": "570m835zTKy0"
      },
      "source": [
        "#### Este presente trabalho tem por intuito mostrar de forma clara, a analise de dados do enem que compara aspectos dos candidatos considerados normais e candidatos com baixa Visão, também tem finalidade de destacar principis diferenças tanto na parte da nota tirada em cada prova como também das caracteristicas econimicas e sociais."
      ],
      "id": "570m835zTKy0"
    },
    {
      "cell_type": "markdown",
      "metadata": {
        "id": "DlFs5xksTKy2"
      },
      "source": [
        "- Importação de módulos e bibliotecas\n",
        "---"
      ],
      "id": "DlFs5xksTKy2"
    },
    {
      "cell_type": "code",
      "execution_count": null,
      "metadata": {
        "id": "eDnisIKkxXXE"
      },
      "outputs": [],
      "source": [
        "%matplotlib inline"
      ],
      "id": "eDnisIKkxXXE"
    },
    {
      "cell_type": "code",
      "execution_count": null,
      "metadata": {
        "id": "cbdfb726"
      },
      "outputs": [],
      "source": [
        "import pandas as pd\n",
        "import numpy as np\n",
        "import matplotlib.patches as mpatches\n",
        "import seaborn as sns\n",
        "import matplotlib.pyplot as plt"
      ],
      "id": "cbdfb726"
    },
    {
      "cell_type": "markdown",
      "metadata": {
        "id": "wl9yPXLsTKy-"
      },
      "source": [
        "- Neste primeiro tópico tem finalidade de pegar os dados do microdados do INEP; \n",
        "---"
      ],
      "id": "wl9yPXLsTKy-"
    },
    {
      "cell_type": "code",
      "execution_count": null,
      "metadata": {
        "id": "b62034ba",
        "outputId": "9168577e-e099-4b6d-c498-ab481f5db6e6",
        "colab": {
          "base_uri": "https://localhost:8080/",
          "height": 311
        }
      },
      "outputs": [
        {
          "output_type": "error",
          "ename": "FileNotFoundError",
          "evalue": "ignored",
          "traceback": [
            "\u001b[0;31m---------------------------------------------------------------------------\u001b[0m",
            "\u001b[0;31mFileNotFoundError\u001b[0m                         Traceback (most recent call last)",
            "\u001b[0;32m<ipython-input-3-098b2a18c89b>\u001b[0m in \u001b[0;36m<module>\u001b[0;34m()\u001b[0m\n\u001b[0;32m----> 1\u001b[0;31m \u001b[0mmicrodados_pd\u001b[0m \u001b[0;34m=\u001b[0m \u001b[0mpd\u001b[0m\u001b[0;34m.\u001b[0m\u001b[0mread_csv\u001b[0m\u001b[0;34m(\u001b[0m\u001b[0;34m'F:/Trabalho/Project with Woquiton/Antigo/MICRODADOS_ENEM_2019.csv'\u001b[0m\u001b[0;34m,\u001b[0m \u001b[0msep\u001b[0m\u001b[0;34m=\u001b[0m \u001b[0;34m';'\u001b[0m\u001b[0;34m,\u001b[0m \u001b[0mencoding\u001b[0m \u001b[0;34m=\u001b[0m \u001b[0;34m\"ISO-8859-1\"\u001b[0m\u001b[0;34m)\u001b[0m\u001b[0;34m\u001b[0m\u001b[0;34m\u001b[0m\u001b[0m\n\u001b[0m",
            "\u001b[0;32m/usr/local/lib/python3.7/dist-packages/pandas/io/parsers.py\u001b[0m in \u001b[0;36mread_csv\u001b[0;34m(filepath_or_buffer, sep, delimiter, header, names, index_col, usecols, squeeze, prefix, mangle_dupe_cols, dtype, engine, converters, true_values, false_values, skipinitialspace, skiprows, skipfooter, nrows, na_values, keep_default_na, na_filter, verbose, skip_blank_lines, parse_dates, infer_datetime_format, keep_date_col, date_parser, dayfirst, cache_dates, iterator, chunksize, compression, thousands, decimal, lineterminator, quotechar, quoting, doublequote, escapechar, comment, encoding, dialect, error_bad_lines, warn_bad_lines, delim_whitespace, low_memory, memory_map, float_precision)\u001b[0m\n\u001b[1;32m    686\u001b[0m     )\n\u001b[1;32m    687\u001b[0m \u001b[0;34m\u001b[0m\u001b[0m\n\u001b[0;32m--> 688\u001b[0;31m     \u001b[0;32mreturn\u001b[0m \u001b[0m_read\u001b[0m\u001b[0;34m(\u001b[0m\u001b[0mfilepath_or_buffer\u001b[0m\u001b[0;34m,\u001b[0m \u001b[0mkwds\u001b[0m\u001b[0;34m)\u001b[0m\u001b[0;34m\u001b[0m\u001b[0;34m\u001b[0m\u001b[0m\n\u001b[0m\u001b[1;32m    689\u001b[0m \u001b[0;34m\u001b[0m\u001b[0m\n\u001b[1;32m    690\u001b[0m \u001b[0;34m\u001b[0m\u001b[0m\n",
            "\u001b[0;32m/usr/local/lib/python3.7/dist-packages/pandas/io/parsers.py\u001b[0m in \u001b[0;36m_read\u001b[0;34m(filepath_or_buffer, kwds)\u001b[0m\n\u001b[1;32m    452\u001b[0m \u001b[0;34m\u001b[0m\u001b[0m\n\u001b[1;32m    453\u001b[0m     \u001b[0;31m# Create the parser.\u001b[0m\u001b[0;34m\u001b[0m\u001b[0;34m\u001b[0m\u001b[0;34m\u001b[0m\u001b[0m\n\u001b[0;32m--> 454\u001b[0;31m     \u001b[0mparser\u001b[0m \u001b[0;34m=\u001b[0m \u001b[0mTextFileReader\u001b[0m\u001b[0;34m(\u001b[0m\u001b[0mfp_or_buf\u001b[0m\u001b[0;34m,\u001b[0m \u001b[0;34m**\u001b[0m\u001b[0mkwds\u001b[0m\u001b[0;34m)\u001b[0m\u001b[0;34m\u001b[0m\u001b[0;34m\u001b[0m\u001b[0m\n\u001b[0m\u001b[1;32m    455\u001b[0m \u001b[0;34m\u001b[0m\u001b[0m\n\u001b[1;32m    456\u001b[0m     \u001b[0;32mif\u001b[0m \u001b[0mchunksize\u001b[0m \u001b[0;32mor\u001b[0m \u001b[0miterator\u001b[0m\u001b[0;34m:\u001b[0m\u001b[0;34m\u001b[0m\u001b[0;34m\u001b[0m\u001b[0m\n",
            "\u001b[0;32m/usr/local/lib/python3.7/dist-packages/pandas/io/parsers.py\u001b[0m in \u001b[0;36m__init__\u001b[0;34m(self, f, engine, **kwds)\u001b[0m\n\u001b[1;32m    946\u001b[0m             \u001b[0mself\u001b[0m\u001b[0;34m.\u001b[0m\u001b[0moptions\u001b[0m\u001b[0;34m[\u001b[0m\u001b[0;34m\"has_index_names\"\u001b[0m\u001b[0;34m]\u001b[0m \u001b[0;34m=\u001b[0m \u001b[0mkwds\u001b[0m\u001b[0;34m[\u001b[0m\u001b[0;34m\"has_index_names\"\u001b[0m\u001b[0;34m]\u001b[0m\u001b[0;34m\u001b[0m\u001b[0;34m\u001b[0m\u001b[0m\n\u001b[1;32m    947\u001b[0m \u001b[0;34m\u001b[0m\u001b[0m\n\u001b[0;32m--> 948\u001b[0;31m         \u001b[0mself\u001b[0m\u001b[0;34m.\u001b[0m\u001b[0m_make_engine\u001b[0m\u001b[0;34m(\u001b[0m\u001b[0mself\u001b[0m\u001b[0;34m.\u001b[0m\u001b[0mengine\u001b[0m\u001b[0;34m)\u001b[0m\u001b[0;34m\u001b[0m\u001b[0;34m\u001b[0m\u001b[0m\n\u001b[0m\u001b[1;32m    949\u001b[0m \u001b[0;34m\u001b[0m\u001b[0m\n\u001b[1;32m    950\u001b[0m     \u001b[0;32mdef\u001b[0m \u001b[0mclose\u001b[0m\u001b[0;34m(\u001b[0m\u001b[0mself\u001b[0m\u001b[0;34m)\u001b[0m\u001b[0;34m:\u001b[0m\u001b[0;34m\u001b[0m\u001b[0;34m\u001b[0m\u001b[0m\n",
            "\u001b[0;32m/usr/local/lib/python3.7/dist-packages/pandas/io/parsers.py\u001b[0m in \u001b[0;36m_make_engine\u001b[0;34m(self, engine)\u001b[0m\n\u001b[1;32m   1178\u001b[0m     \u001b[0;32mdef\u001b[0m \u001b[0m_make_engine\u001b[0m\u001b[0;34m(\u001b[0m\u001b[0mself\u001b[0m\u001b[0;34m,\u001b[0m \u001b[0mengine\u001b[0m\u001b[0;34m=\u001b[0m\u001b[0;34m\"c\"\u001b[0m\u001b[0;34m)\u001b[0m\u001b[0;34m:\u001b[0m\u001b[0;34m\u001b[0m\u001b[0;34m\u001b[0m\u001b[0m\n\u001b[1;32m   1179\u001b[0m         \u001b[0;32mif\u001b[0m \u001b[0mengine\u001b[0m \u001b[0;34m==\u001b[0m \u001b[0;34m\"c\"\u001b[0m\u001b[0;34m:\u001b[0m\u001b[0;34m\u001b[0m\u001b[0;34m\u001b[0m\u001b[0m\n\u001b[0;32m-> 1180\u001b[0;31m             \u001b[0mself\u001b[0m\u001b[0;34m.\u001b[0m\u001b[0m_engine\u001b[0m \u001b[0;34m=\u001b[0m \u001b[0mCParserWrapper\u001b[0m\u001b[0;34m(\u001b[0m\u001b[0mself\u001b[0m\u001b[0;34m.\u001b[0m\u001b[0mf\u001b[0m\u001b[0;34m,\u001b[0m \u001b[0;34m**\u001b[0m\u001b[0mself\u001b[0m\u001b[0;34m.\u001b[0m\u001b[0moptions\u001b[0m\u001b[0;34m)\u001b[0m\u001b[0;34m\u001b[0m\u001b[0;34m\u001b[0m\u001b[0m\n\u001b[0m\u001b[1;32m   1181\u001b[0m         \u001b[0;32melse\u001b[0m\u001b[0;34m:\u001b[0m\u001b[0;34m\u001b[0m\u001b[0;34m\u001b[0m\u001b[0m\n\u001b[1;32m   1182\u001b[0m             \u001b[0;32mif\u001b[0m \u001b[0mengine\u001b[0m \u001b[0;34m==\u001b[0m \u001b[0;34m\"python\"\u001b[0m\u001b[0;34m:\u001b[0m\u001b[0;34m\u001b[0m\u001b[0;34m\u001b[0m\u001b[0m\n",
            "\u001b[0;32m/usr/local/lib/python3.7/dist-packages/pandas/io/parsers.py\u001b[0m in \u001b[0;36m__init__\u001b[0;34m(self, src, **kwds)\u001b[0m\n\u001b[1;32m   1991\u001b[0m         \u001b[0;32mif\u001b[0m \u001b[0mkwds\u001b[0m\u001b[0;34m.\u001b[0m\u001b[0mget\u001b[0m\u001b[0;34m(\u001b[0m\u001b[0;34m\"compression\"\u001b[0m\u001b[0;34m)\u001b[0m \u001b[0;32mis\u001b[0m \u001b[0;32mNone\u001b[0m \u001b[0;32mand\u001b[0m \u001b[0mencoding\u001b[0m\u001b[0;34m:\u001b[0m\u001b[0;34m\u001b[0m\u001b[0;34m\u001b[0m\u001b[0m\n\u001b[1;32m   1992\u001b[0m             \u001b[0;32mif\u001b[0m \u001b[0misinstance\u001b[0m\u001b[0;34m(\u001b[0m\u001b[0msrc\u001b[0m\u001b[0;34m,\u001b[0m \u001b[0mstr\u001b[0m\u001b[0;34m)\u001b[0m\u001b[0;34m:\u001b[0m\u001b[0;34m\u001b[0m\u001b[0;34m\u001b[0m\u001b[0m\n\u001b[0;32m-> 1993\u001b[0;31m                 \u001b[0msrc\u001b[0m \u001b[0;34m=\u001b[0m \u001b[0mopen\u001b[0m\u001b[0;34m(\u001b[0m\u001b[0msrc\u001b[0m\u001b[0;34m,\u001b[0m \u001b[0;34m\"rb\"\u001b[0m\u001b[0;34m)\u001b[0m\u001b[0;34m\u001b[0m\u001b[0;34m\u001b[0m\u001b[0m\n\u001b[0m\u001b[1;32m   1994\u001b[0m                 \u001b[0mself\u001b[0m\u001b[0;34m.\u001b[0m\u001b[0mhandles\u001b[0m\u001b[0;34m.\u001b[0m\u001b[0mappend\u001b[0m\u001b[0;34m(\u001b[0m\u001b[0msrc\u001b[0m\u001b[0;34m)\u001b[0m\u001b[0;34m\u001b[0m\u001b[0;34m\u001b[0m\u001b[0m\n\u001b[1;32m   1995\u001b[0m \u001b[0;34m\u001b[0m\u001b[0m\n",
            "\u001b[0;31mFileNotFoundError\u001b[0m: [Errno 2] No such file or directory: 'F:/Trabalho/Project with Woquiton/Antigo/MICRODADOS_ENEM_2019.csv'"
          ]
        }
      ],
      "source": [
        "microdados_pd = pd.read_csv('F:/Trabalho/Project with Woquiton/Antigo/MICRODADOS_ENEM_2019.csv', sep= ';', encoding = \"ISO-8859-1\")"
      ],
      "id": "b62034ba"
    },
    {
      "cell_type": "markdown",
      "metadata": {
        "id": "avMmO7bITKzB"
      },
      "source": [
        "- Zero o meu microdados_pd principal, para que tem memoria."
      ],
      "id": "avMmO7bITKzB"
    },
    {
      "cell_type": "code",
      "execution_count": null,
      "metadata": {
        "id": "XYH5xMIpTKzC"
      },
      "outputs": [],
      "source": [
        "# microdados_pd = 0"
      ],
      "id": "XYH5xMIpTKzC"
    },
    {
      "cell_type": "code",
      "execution_count": null,
      "metadata": {
        "id": "p78-FpUwRvMc"
      },
      "outputs": [],
      "source": [
        "# microdados_pd.columns.values;"
      ],
      "id": "p78-FpUwRvMc"
    },
    {
      "cell_type": "markdown",
      "metadata": {
        "id": "yF8ApF2hTKzE"
      },
      "source": [
        "- Selecionando apenas as colunas que me serão uteis."
      ],
      "id": "yF8ApF2hTKzE"
    },
    {
      "cell_type": "code",
      "execution_count": null,
      "metadata": {
        "id": "oCbwz4NqTKzF"
      },
      "outputs": [],
      "source": [
        "colunasParaMinhaAnalise_pd =['NU_INSCRICAO',\n",
        "       'NU_IDADE', 'TP_SEXO', 'TP_COR_RACA', 'TP_ESCOLA',\n",
        "       'IN_BAIXA_VISAO', 'IN_CEGUEIRA',\n",
        "       'TP_PRESENCA_CN', 'TP_PRESENCA_CH', 'TP_PRESENCA_LC',\n",
        "       'TP_PRESENCA_MT', 'CO_PROVA_CN', 'CO_PROVA_CH', 'CO_PROVA_LC',\n",
        "       'CO_PROVA_MT', 'NU_NOTA_CN', 'NU_NOTA_CH', 'NU_NOTA_LC',\n",
        "       'NU_NOTA_MT', 'TX_RESPOSTAS_CN', 'TX_RESPOSTAS_CH',\n",
        "       'TX_RESPOSTAS_LC', 'TX_RESPOSTAS_MT', 'TP_LINGUA',\n",
        "       'TX_GABARITO_CN', 'TX_GABARITO_CH', 'TX_GABARITO_LC',\n",
        "       'TX_GABARITO_MT', 'NU_NOTA_REDACAO', \n",
        "        'Q001', 'Q002', 'Q003', 'Q004', 'Q005', 'Q006',\n",
        "       'Q007', 'Q008', 'Q009', 'Q010', 'Q011', 'Q012', 'Q013', 'Q014',\n",
        "       'Q015', 'Q016', 'Q017', 'Q018', 'Q019', 'Q020', 'Q021', 'Q022',\n",
        "       'Q023', 'Q024', 'Q025']"
      ],
      "id": "oCbwz4NqTKzF"
    },
    {
      "cell_type": "code",
      "execution_count": null,
      "metadata": {
        "id": "dlke8hT6TKzG"
      },
      "outputs": [],
      "source": [
        "# microdadosFiltrados_pd = microdados_pd.filter(items=colunasParaMinhaAnalise_pd)"
      ],
      "id": "dlke8hT6TKzG"
    },
    {
      "cell_type": "code",
      "execution_count": null,
      "metadata": {
        "id": "W_daPazATKzG"
      },
      "outputs": [],
      "source": [
        "# microdadosFiltrados_pd = 0"
      ],
      "id": "W_daPazATKzG"
    },
    {
      "cell_type": "code",
      "execution_count": null,
      "metadata": {
        "id": "suM181bETKzH"
      },
      "outputs": [],
      "source": [
        "# microPd = microdadosFiltrados_pd"
      ],
      "id": "suM181bETKzH"
    },
    {
      "cell_type": "code",
      "execution_count": null,
      "metadata": {
        "collapsed": true,
        "id": "N4JirG79TKzH"
      },
      "outputs": [],
      "source": [
        "microPd"
      ],
      "id": "N4JirG79TKzH"
    },
    {
      "cell_type": "markdown",
      "metadata": {
        "id": "XjXP8DA9uJl6"
      },
      "source": [
        "#                  Filtrando Dados \n",
        "---"
      ],
      "id": "XjXP8DA9uJl6"
    },
    {
      "cell_type": "code",
      "execution_count": null,
      "metadata": {
        "id": "opPNKA9ETKzK"
      },
      "outputs": [],
      "source": [
        "# colunasSociais = ['NU_IDADE', 'TP_SEXO', 'Q024', 'Q025', 'IN_BAIXA_VISAO', 'IN_CEGUEIRA', 'TP_COR_RACA']\n",
        "# colunasProva = ['NU_NOTA_CN', 'NU_NOTA_CH', 'NU_NOTA_LC', 'NU_NOTA_MT']\n",
        "# notasProvas = microPd.filter(items =colunasProva)\n",
        "# QSociais = microPd.filter(items =colunasSociais)"
      ],
      "id": "opPNKA9ETKzK"
    },
    {
      "cell_type": "markdown",
      "metadata": {
        "id": "E77eHvgGTKzK"
      },
      "source": [
        "- Removendo colunas com valor NaN"
      ],
      "id": "E77eHvgGTKzK"
    },
    {
      "cell_type": "code",
      "execution_count": null,
      "metadata": {
        "id": "XsN4AZ1oTKzL"
      },
      "outputs": [],
      "source": [
        "# internetNota = interNota.dropna()\n",
        "# baixavisaoNota = visaoNota.dropna()\n",
        "# internetVisao = interVisao.dropna()"
      ],
      "id": "XsN4AZ1oTKzL"
    },
    {
      "cell_type": "code",
      "execution_count": null,
      "metadata": {
        "id": "_4CkCuQtTKzL"
      },
      "outputs": [],
      "source": [
        "# colunasSelecionadas = ['NU_NOTA_CN','Q025']\n",
        "# interNota = microdados.filter(items =colunasSelecionadas)\n",
        "# colunasSelecionadas1 = ['IN_BAIXA_VISAO','Q025']\n",
        "# interVisao = microdados.filter(items =colunasSelecionadas1)\n",
        "# colunasSelecionadas2 = ['NU_NOTA_CN','IN_BAIXA_VISAO']\n",
        "# visaoNota = microdados.filter(items =colunasSelecionadas2)"
      ],
      "id": "_4CkCuQtTKzL"
    },
    {
      "cell_type": "markdown",
      "metadata": {
        "id": "lKnDB9ZyTKzM"
      },
      "source": [
        "##  Candidatos Normais"
      ],
      "id": "lKnDB9ZyTKzM"
    },
    {
      "cell_type": "markdown",
      "metadata": {
        "id": "5FekpX0qTKzM"
      },
      "source": [
        "- Filtrando Dados dos Candidadtos de baixa Visão:"
      ],
      "id": "5FekpX0qTKzM"
    },
    {
      "cell_type": "code",
      "execution_count": null,
      "metadata": {
        "id": "pl0Fk6dvTKzM"
      },
      "outputs": [],
      "source": [
        "dadosNormais = microPd[microPd.IN_BAIXA_VISAO==0]\n",
        "dadosN = dadosNormais\n",
        "\n",
        "notaN_Cn = dadosN[\"NU_NOTA_CN\"]\n",
        "notaN_Ch = dadosN['NU_NOTA_CH']\n",
        "notaN_Lc = dadosN['NU_NOTA_LC']\n",
        "notaN_Mt = dadosN['NU_NOTA_MT']\n",
        "\n",
        "\n",
        "baixavisaoN = dadosN['IN_BAIXA_VISAO']\n",
        "\n",
        "\n",
        "pessoaN = dadosN[\"Q005\"]\n",
        "rendaN = dadosN[\"Q006\"]\n",
        "quartoN = dadosN[\"Q009\"]\n",
        "geladeiraN = dadosN[\"Q012\"]\n",
        "celularN = dadosN[\"Q022\"]\n",
        "computadorN = dadosN[\"Q024\"]\n",
        "internetN = dadosN[\"Q025\"]\n",
        "idadeAlunoN = dadosN[\"NU_IDADE\"]\n",
        "sexoAlunoN = dadosN[\"TP_SEXO\"]\n",
        "corN = dadosN[\"TP_COR_RACA\"]"
      ],
      "id": "pl0Fk6dvTKzM"
    },
    {
      "cell_type": "markdown",
      "metadata": {
        "id": "hlch5gpgTKzN"
      },
      "source": [
        "## Candidatos de Baixa Visão"
      ],
      "id": "hlch5gpgTKzN"
    },
    {
      "cell_type": "markdown",
      "metadata": {
        "id": "Zrekl97_TKzN"
      },
      "source": [
        "- Filtrando Dados dos Candidadtos de baixa Visão:"
      ],
      "id": "Zrekl97_TKzN"
    },
    {
      "cell_type": "code",
      "execution_count": null,
      "metadata": {
        "id": "z9KkIq69TKzN"
      },
      "outputs": [],
      "source": [
        "dados = microPd[microPd.IN_BAIXA_VISAO==1]"
      ],
      "id": "z9KkIq69TKzN"
    },
    {
      "cell_type": "code",
      "execution_count": null,
      "metadata": {
        "id": "93lV6ktOu3ed"
      },
      "outputs": [],
      "source": [
        "notaCn = dados[\"NU_NOTA_CN\"]\n",
        "notaCh = dados['NU_NOTA_CH']\n",
        "notaLc = dados['NU_NOTA_LC']\n",
        "notaMt = dados['NU_NOTA_MT']\n",
        "\n",
        "\n",
        "baixavisao = dados['IN_BAIXA_VISAO']\n",
        "\n",
        "\n",
        "pessoa = dados[\"Q005\"]\n",
        "renda = dados[\"Q006\"]\n",
        "quarto = dados[\"Q009\"]\n",
        "geladeira = dados[\"Q012\"]\n",
        "celular = dados[\"Q022\"]\n",
        "computador = dados[\"Q024\"]\n",
        "internet = dados[\"Q025\"]\n",
        "idadeAluno = dados[\"NU_IDADE\"]\n",
        "sexoAluno = dados[\"TP_SEXO\"]\n",
        "cor = dados[\"TP_COR_RACA\"]"
      ],
      "id": "93lV6ktOu3ed"
    },
    {
      "cell_type": "markdown",
      "metadata": {
        "id": "wPa6JpEpuKEo"
      },
      "source": [
        "#                  Resultado das Analises\n",
        "---"
      ],
      "id": "wPa6JpEpuKEo"
    },
    {
      "cell_type": "markdown",
      "metadata": {
        "id": "14u9yedrTKzO"
      },
      "source": [
        "## Fazendo comparações entre notas entre candidatos com baixa visão e visão normal"
      ],
      "id": "14u9yedrTKzO"
    },
    {
      "cell_type": "code",
      "execution_count": null,
      "metadata": {
        "id": "zl5JH69bTKzO"
      },
      "outputs": [],
      "source": [
        "notaCns = notaCn.dropna()\n",
        "idade = idadeAluno.dropna()"
      ],
      "id": "zl5JH69bTKzO"
    },
    {
      "cell_type": "code",
      "execution_count": null,
      "metadata": {
        "id": "bCaqyJ-nTKzP"
      },
      "outputs": [],
      "source": [
        "iN = idadeAlunoN\n",
        "\n",
        "i = idadeAluno"
      ],
      "id": "bCaqyJ-nTKzP"
    },
    {
      "cell_type": "markdown",
      "metadata": {
        "id": "to5FUq1UTKzP"
      },
      "source": [
        "- Gráfico com comparação de notas na máteria de ciência da natureza, entre candidatos com baixa vi~sao e visão normal."
      ],
      "id": "to5FUq1UTKzP"
    },
    {
      "cell_type": "code",
      "execution_count": null,
      "metadata": {
        "id": "ypl99riuTKzP"
      },
      "outputs": [],
      "source": [
        "y1 = notaN_Cn\n",
        "\n",
        "y = notaCn"
      ],
      "id": "ypl99riuTKzP"
    },
    {
      "cell_type": "code",
      "execution_count": null,
      "metadata": {
        "id": "ldOl7lhoTKzP"
      },
      "outputs": [],
      "source": [
        "limits = [300, 960]\n",
        "plt.figure(figsize = (17,5))\n",
        "\n",
        "plt.scatter(y1, iN)\n",
        "plt.scatter(y, i)\n",
        "plt.xlim(limits)\n",
        "plt.title('Ciências da Naturaza, Baixa Visão VS Visão Normal')"
      ],
      "id": "ldOl7lhoTKzP"
    },
    {
      "cell_type": "markdown",
      "metadata": {
        "id": "oNsjXmoQTKzQ"
      },
      "source": [
        "- Gráfico com comparação de notas na máteria de ciência humanas, entre candidatos com baixa vi~sao e visão normal."
      ],
      "id": "oNsjXmoQTKzQ"
    },
    {
      "cell_type": "code",
      "execution_count": null,
      "metadata": {
        "id": "neL7YqV2TKzQ"
      },
      "outputs": [],
      "source": [
        "y1 = notaN_Ch\n",
        "\n",
        "y = notaCh"
      ],
      "id": "neL7YqV2TKzQ"
    },
    {
      "cell_type": "code",
      "execution_count": null,
      "metadata": {
        "id": "hzn3CMj5TKzR"
      },
      "outputs": [],
      "source": [
        "limits = [300, 960]\n",
        "plt.figure(figsize = (17,5))\n",
        "\n",
        "plt.scatter(y1, iN)\n",
        "plt.scatter(y, i)\n",
        "plt.xlim(limits)\n",
        "plt.title('Ciências Humanas, Baixa Visão VS Visão Normal')"
      ],
      "id": "hzn3CMj5TKzR"
    },
    {
      "cell_type": "markdown",
      "metadata": {
        "id": "0L43gjJaTKzR"
      },
      "source": [
        "- Gráfico com comparação de notas na máteria de portuques, entre candidatos com baixa visão e visão normal."
      ],
      "id": "0L43gjJaTKzR"
    },
    {
      "cell_type": "code",
      "execution_count": null,
      "metadata": {
        "id": "dHkse59wTKzS"
      },
      "outputs": [],
      "source": [
        "y1 = notaN_Lc\n",
        "\n",
        "y = notaLc"
      ],
      "id": "dHkse59wTKzS"
    },
    {
      "cell_type": "code",
      "execution_count": null,
      "metadata": {
        "id": "gj6qMxA9TKzS"
      },
      "outputs": [],
      "source": [
        "limits = [300, 960]\n",
        "plt.figure(figsize = (17,5))\n",
        "\n",
        "plt.scatter(y1, iN)\n",
        "plt.scatter(y, i)\n",
        "plt.xlim(limits)\n",
        "plt.title('Linguagens, Baixa Visão VS Visão Normal')"
      ],
      "id": "gj6qMxA9TKzS"
    },
    {
      "cell_type": "markdown",
      "metadata": {
        "id": "k9eAA0uITKzT"
      },
      "source": [
        "- Gráfico com comparação de notas na máteria de matematica, entre candidatos com baixa vi~sao e visão normal."
      ],
      "id": "k9eAA0uITKzT"
    },
    {
      "cell_type": "code",
      "execution_count": null,
      "metadata": {
        "id": "05UbLj5_TKzT"
      },
      "outputs": [],
      "source": [
        "y1 = notaN_Mt\n",
        "\n",
        "y = notaMt"
      ],
      "id": "05UbLj5_TKzT"
    },
    {
      "cell_type": "code",
      "execution_count": null,
      "metadata": {
        "id": "KEfmiBWqTKzU"
      },
      "outputs": [],
      "source": [
        "limits = [300, 960]\n",
        "plt.figure(figsize = (17,5))\n",
        "\n",
        "plt.scatter(y1, iN)\n",
        "plt.scatter(y, i)\n",
        "plt.xlim(limits)\n",
        "plt.title('Matemática, Baixa Visão VS Visão Normal')"
      ],
      "id": "KEfmiBWqTKzU"
    },
    {
      "cell_type": "markdown",
      "metadata": {
        "id": "BYXhsaiJTKzU"
      },
      "source": [
        "## Fazendo comparações entre notas entre candidatos com baixa visão e visão normal"
      ],
      "id": "BYXhsaiJTKzU"
    },
    {
      "cell_type": "markdown",
      "metadata": {
        "id": "XKb4n9U5TKzV"
      },
      "source": [
        "##   Ciências Humanas AZUL"
      ],
      "id": "XKb4n9U5TKzV"
    },
    {
      "cell_type": "code",
      "execution_count": null,
      "metadata": {
        "id": "OK40rJonTKzV"
      },
      "outputs": [],
      "source": [
        "PROVA_CH = dados[dados.CO_PROVA_CH==507]\n",
        "PROVA_CH.reset_index(inplace=True)\n",
        "\n",
        "P = ['TX_RESPOSTAS_CH', 'TX_GABARITO_CH']\n",
        "pch = PROVA_CH.filter(items = P)\n",
        "\n",
        "respostasCH = pch['TX_RESPOSTAS_CH']\n",
        "gabaritoCH = pch['TX_GABARITO_CH']"
      ],
      "id": "OK40rJonTKzV"
    },
    {
      "cell_type": "code",
      "execution_count": null,
      "metadata": {
        "id": "sDjnqDF4TKzV"
      },
      "outputs": [],
      "source": [
        "\n",
        "acertosN = [0]*45\n",
        "for j in range(0, 45):\n",
        "    \n",
        "    for i in range(0, 135):\n",
        "        linha_da_resposta = respostasCH[i]\n",
        "        linha_do_gabarito = gabaritoCH[i]\n",
        "        \n",
        "        resposta_candidato = linha_da_resposta[j]\n",
        "        resposta_gabarito = linha_do_gabarito[j]\n",
        "        \n",
        "        if resposta_candidato == resposta_gabarito:\n",
        "            acertosN[j] = acertosN[j] + 1\n",
        "            resposta_candidato = ''\n",
        "            resposta_gabarito = ''\n"
      ],
      "id": "sDjnqDF4TKzV"
    },
    {
      "cell_type": "code",
      "execution_count": null,
      "metadata": {
        "id": "XTZLTiO8TKzW"
      },
      "outputs": [],
      "source": [
        "PROVA_CH_N = dadosN[dadosN.CO_PROVA_CH==507]\n",
        "PROVA_CH_N.reset_index(inplace=True)\n",
        "\n",
        "PN = ['TX_RESPOSTAS_CH', 'TX_GABARITO_CH']\n",
        "pchN = PROVA_CH_N.filter(items = PN)\n",
        "\n",
        "respostasCHN = pchN['TX_RESPOSTAS_CH']\n",
        "gabaritoCHN = pchN['TX_GABARITO_CH']"
      ],
      "id": "XTZLTiO8TKzW"
    },
    {
      "cell_type": "code",
      "execution_count": null,
      "metadata": {
        "id": "zwiqWNoHTKzW"
      },
      "outputs": [],
      "source": [
        "acertos = [0]*45\n",
        "for j in range(0, 45):\n",
        "    for i in range(0, 135):\n",
        "        linha_da_resposta = respostasCHN[i]\n",
        "        linha_do_gabarito = gabaritoCHN[i]\n",
        "        resposta_candidato = linha_da_resposta[j]\n",
        "        resposta_gabarito = linha_do_gabarito[j]\n",
        "        if resposta_candidato == resposta_gabarito:\n",
        "            acertos[j] = acertos[j] + 1\n",
        "            resposta_candidato = ''\n",
        "            resposta_gabarito = ''\n"
      ],
      "id": "zwiqWNoHTKzW"
    },
    {
      "cell_type": "code",
      "execution_count": null,
      "metadata": {
        "id": "nXoqw6lSTKzX"
      },
      "outputs": [],
      "source": [
        "acertos_pd = pd.DataFrame(acertos)\n",
        "acertosN_pd = pd.DataFrame(acertosN)"
      ],
      "id": "nXoqw6lSTKzX"
    },
    {
      "cell_type": "code",
      "execution_count": null,
      "metadata": {
        "id": "egw6oq2VTKzX"
      },
      "outputs": [],
      "source": [
        "x = acertosN_pd\n",
        "y = acertosN_pd.index\n",
        "\n",
        "\n",
        "x1 = acertos_pd\n",
        "y1 = acertos_pd.index\n",
        "\n",
        "plt.scatter(y, x)\n",
        "ax = plt.scatter(y1, x1)\n",
        "plt.ylabel('Acertos', fontsize=18)\n",
        "plt.xlabel('Questões', fontsize=18)\n",
        "plt.title('Numero de Acertos:\\nQuestões de Ciências da Natureza, AZUL.\\n Baixa Visão VS Visão Normal', fontsize = 18)\n",
        "\n",
        "limits = [-1,50]\n",
        "limits1 = [0,135]\n",
        "sec_lim = 1000\n",
        "bp = 45\n",
        "\n",
        "ax = plt.gca()\n",
        "ax.set_xlim(limits)\n",
        "ax.set_ylim(limits1)\n",
        "ax.scatter(y, x, s=1, c='blue', alpha=1)\n",
        "ax.scatter(y1, x1, s=1, c='red', alpha=1)\n",
        "\n",
        "cores=['Baixa Visão', 'Visão Normal']\n",
        "plt.legend(cores, bbox_to_anchor=(1.5, 1), loc='upper right')\n",
        "\n",
        "plt.plot(x)\n",
        "plt.plot(x1)\n",
        "plt.show()"
      ],
      "id": "egw6oq2VTKzX"
    },
    {
      "cell_type": "markdown",
      "metadata": {
        "id": "6RF7aWLwTKzY"
      },
      "source": [
        "## Ciências Humanas AMARELA"
      ],
      "id": "6RF7aWLwTKzY"
    },
    {
      "cell_type": "code",
      "execution_count": null,
      "metadata": {
        "id": "NfwNP6SzTKzZ"
      },
      "outputs": [],
      "source": [
        "PROVA_CH = dados[dados.CO_PROVA_CH==508]\n",
        "PROVA_CH.reset_index(inplace=True)\n",
        "\n",
        "P = ['TX_RESPOSTAS_CH', 'TX_GABARITO_CH']\n",
        "pch = PROVA_CH.filter(items = P)\n",
        "\n",
        "respostasCH = pch['TX_RESPOSTAS_CH']\n",
        "gabaritoCH = pch['TX_GABARITO_CH']"
      ],
      "id": "NfwNP6SzTKzZ"
    },
    {
      "cell_type": "code",
      "execution_count": null,
      "metadata": {
        "id": "shxUfqdfTKzZ"
      },
      "outputs": [],
      "source": [
        "acertosN = [0]*45\n",
        "\n",
        "\n",
        "for j in range(0, 45):\n",
        "\n",
        "    for i in range(0, 4183):\n",
        "        linha_da_resposta = respostasCH[i]\n",
        "        linha_do_gabarito = gabaritoCH[i]\n",
        "\n",
        "        resposta_candidato = linha_da_resposta[j]\n",
        "        resposta_gabarito = linha_do_gabarito[j]\n",
        "\n",
        "        if resposta_candidato == resposta_gabarito:\n",
        "            acertosN[j] = acertosN[j] + 1\n",
        "            resposta_candidato = ''\n",
        "            resposta_gabarito = ''\n"
      ],
      "id": "shxUfqdfTKzZ"
    },
    {
      "cell_type": "code",
      "execution_count": null,
      "metadata": {
        "id": "17WNyJyJTKzZ"
      },
      "outputs": [],
      "source": [
        "PROVA_CH_N = dadosN[dadosN.CO_PROVA_CH==508]\n",
        "PROVA_CH_N.reset_index(inplace=True)\n",
        "PN = ['TX_RESPOSTAS_CH', 'TX_GABARITO_CH']\n",
        "pchN = PROVA_CH_N.filter(items = PN)\n",
        "\n",
        "respostasCHN = pchN['TX_RESPOSTAS_CH']\n",
        "gabaritoCHN = pchN['TX_GABARITO_CH']"
      ],
      "id": "17WNyJyJTKzZ"
    },
    {
      "cell_type": "code",
      "execution_count": null,
      "metadata": {
        "id": "sC6LKRuKTKzZ"
      },
      "outputs": [],
      "source": [
        "acertos = [0]*45\n",
        "for j in range(0, 45):\n",
        "    for i in range(0, 4183):\n",
        "        linha_da_resposta = respostasCHN[i]\n",
        "        linha_do_gabarito = gabaritoCHN[i]\n",
        "\n",
        "        resposta_candidato = linha_da_resposta[j]\n",
        "        resposta_gabarito = linha_do_gabarito[j]\n",
        "\n",
        "        if resposta_candidato == resposta_gabarito:\n",
        "            acertos[j] = acertos[j] + 1\n",
        "            resposta_candidato = ''\n",
        "            resposta_gabarito = ''\n"
      ],
      "id": "sC6LKRuKTKzZ"
    },
    {
      "cell_type": "code",
      "execution_count": null,
      "metadata": {
        "id": "AFBQYooKTKza"
      },
      "outputs": [],
      "source": [
        "acertos_pd = pd.DataFrame(acertos)\n",
        "acertosN_pd = pd.DataFrame(acertosN)"
      ],
      "id": "AFBQYooKTKza"
    },
    {
      "cell_type": "code",
      "execution_count": null,
      "metadata": {
        "id": "DBsNlaZETKza"
      },
      "outputs": [],
      "source": [
        "x = acertosN_pd\n",
        "y = acertosN_pd.index\n",
        "\n",
        "\n",
        "x1 = acertos_pd\n",
        "y1 = acertos_pd.index\n",
        "\n",
        "plt.scatter(y, x)\n",
        "ax = plt.scatter(y1, x1)\n",
        "plt.ylabel('Acertos', fontsize=18)\n",
        "plt.xlabel('Questões', fontsize=18)\n",
        "plt.title('Numero de Acertos:\\nCiências da Natureza, AMARELA.\\n Baixa Visão VS Visão Normal', fontsize = 18)\n",
        "\n",
        "\n",
        "limits = [-1,50]\n",
        "limits1 = [0,4183]\n",
        "sec_lim = 1000\n",
        "bp = 45\n",
        "\n",
        "ax = plt.gca()\n",
        "ax.set_xlim(limits)\n",
        "ax.set_ylim(limits1)\n",
        "ax.scatter(y, x, s=1, c='blue', alpha=1)\n",
        "ax.scatter(y1, x1, s=1, c='red', alpha=1)\n",
        "\n",
        "cores=['Baixa Visão', 'Visão Normal']\n",
        "plt.legend(cores, bbox_to_anchor=(1.5, 1), loc='upper right')\n",
        "\n",
        "plt.plot(x)\n",
        "plt.plot(x1)\n",
        "plt.show()"
      ],
      "id": "DBsNlaZETKza"
    },
    {
      "cell_type": "markdown",
      "metadata": {
        "id": "UiMxe26cTKzb"
      },
      "source": [
        "## Ciências Humanas BRANCA"
      ],
      "id": "UiMxe26cTKzb"
    },
    {
      "cell_type": "code",
      "execution_count": null,
      "metadata": {
        "scrolled": true,
        "id": "bRTpl1oATKzb"
      },
      "outputs": [],
      "source": [
        "PROVA_CH = dados[dados.CO_PROVA_CH==509]\n",
        "PROVA_CH.reset_index(inplace=True)\n",
        "P = ['TX_RESPOSTAS_CH', 'TX_GABARITO_CH']\n",
        "pch = PROVA_CH.filter(items = P)\n",
        "respostasCH = pch['TX_RESPOSTAS_CH']\n",
        "gabaritoCH = pch['TX_GABARITO_CH']"
      ],
      "id": "bRTpl1oATKzb"
    },
    {
      "cell_type": "code",
      "execution_count": null,
      "metadata": {
        "id": "bj4Vtt1dTKzb"
      },
      "outputs": [],
      "source": [
        "acertos = [0]*45\n",
        "for j in range(0, 45):\n",
        "    for i in range(0, 126):\n",
        "        linha_da_resposta = respostasCHN[i]\n",
        "        linha_do_gabarito = gabaritoCHN[i]\n",
        "        resposta_candidato = linha_da_resposta[j]\n",
        "        resposta_gabarito = linha_do_gabarito[j]\n",
        "        if resposta_candidato == resposta_gabarito:\n",
        "            acertos[j] = acertos[j] + 1\n",
        "            resposta_candidato = ''\n",
        "            resposta_gabarito = ''"
      ],
      "id": "bj4Vtt1dTKzb"
    },
    {
      "cell_type": "code",
      "execution_count": null,
      "metadata": {
        "scrolled": true,
        "id": "VP94DWkQTKzc"
      },
      "outputs": [],
      "source": [
        "PROVA_CH_N = dadosN[dadosN.CO_PROVA_CH==509]\n",
        "PROVA_CH_N.reset_index(inplace=True)\n",
        "PN = ['TX_RESPOSTAS_CH', 'TX_GABARITO_CH']\n",
        "pchN = PROVA_CH_N.filter(items = PN)\n",
        "respostasCHN = pchN['TX_RESPOSTAS_CH']\n",
        "gabaritoCHN = pchN['TX_GABARITO_CH']"
      ],
      "id": "VP94DWkQTKzc"
    },
    {
      "cell_type": "code",
      "execution_count": null,
      "metadata": {
        "id": "qO4zbLAtTKzc"
      },
      "outputs": [],
      "source": [
        "acertosN = [0]*45\n",
        "for j in range(0, 45):\n",
        "    \n",
        "    for i in range(0, 123):\n",
        "        linha_da_resposta = respostasCH[i]\n",
        "        linha_do_gabarito = gabaritoCH[i]\n",
        "        \n",
        "        resposta_candidato = linha_da_resposta[j]\n",
        "        resposta_gabarito = linha_do_gabarito[j]\n",
        "        \n",
        "        if resposta_candidato == resposta_gabarito:\n",
        "            acertosN[j] = acertosN[j] + 1\n",
        "            resposta_candidato = ''\n",
        "            resposta_gabarito = ''"
      ],
      "id": "qO4zbLAtTKzc"
    },
    {
      "cell_type": "code",
      "execution_count": null,
      "metadata": {
        "id": "7_xCTsbNTKzc"
      },
      "outputs": [],
      "source": [
        "acertos_pd = pd.DataFrame(acertos)\n",
        "acertosN_pd = pd.DataFrame(acertosN)"
      ],
      "id": "7_xCTsbNTKzc"
    },
    {
      "cell_type": "code",
      "execution_count": null,
      "metadata": {
        "id": "XgkCVU5BTKzc"
      },
      "outputs": [],
      "source": [
        "x = acertosN_pd\n",
        "y = acertosN_pd.index\n",
        "\n",
        "\n",
        "x1 = acertos_pd\n",
        "y1 = acertos_pd.index\n",
        "\n",
        "plt.scatter(y, x)\n",
        "ax = plt.scatter(y1, x1)\n",
        "plt.ylabel('Acertos', fontsize=18)\n",
        "plt.xlabel('Questões', fontsize=18)\n",
        "plt.title('Numero de Acertos:\\nQuestões de Ciências da Natureza, BRANCA.\\n Baixa Visão VS Visão Normal', fontsize = 18)\n",
        "\n",
        "\n",
        "limits = [-1, 45]\n",
        "limits1 = [0,123]\n",
        "bp = 45\n",
        "\n",
        "ax = plt.gca()\n",
        "ax.set_xlim(limits)\n",
        "ax.set_ylim(limits1)\n",
        "ax.scatter(y, x, s=1, c='blue', alpha=1)\n",
        "ax.scatter(y1, x1, s=44, c='red', alpha=1)\n",
        "\n",
        "cores=['Baixa Visão', 'Visão Normal']\n",
        "plt.legend(cores, bbox_to_anchor=(1.5, 1), loc='upper right')\n",
        "\n",
        "plt.plot(x)\n",
        "plt.plot(x1)\n",
        "plt.show()"
      ],
      "id": "XgkCVU5BTKzc"
    },
    {
      "cell_type": "markdown",
      "metadata": {
        "id": "IPGhZk71TKzf"
      },
      "source": [
        "## Ciências Humanas ROSA"
      ],
      "id": "IPGhZk71TKzf"
    },
    {
      "cell_type": "code",
      "execution_count": null,
      "metadata": {
        "scrolled": true,
        "id": "aiGAY618TKzf"
      },
      "outputs": [],
      "source": [
        "PROVA_CH = dados[dados.CO_PROVA_CH==510]\n",
        "PROVA_CH.reset_index(inplace=True)\n",
        "P = ['TX_RESPOSTAS_CH', 'TX_GABARITO_CH']\n",
        "pch = PROVA_CH.filter(items = P)\n",
        "respostasCH = pch['TX_RESPOSTAS_CH']\n",
        "gabaritoCH = pch['TX_GABARITO_CH']"
      ],
      "id": "aiGAY618TKzf"
    },
    {
      "cell_type": "code",
      "execution_count": null,
      "metadata": {
        "id": "yOXYg-yITKzg"
      },
      "outputs": [],
      "source": [
        "acertos = [0]*45\n",
        "for j in range(0, 45):\n",
        "    \n",
        "    for i in range(0, 126):\n",
        "        linha_da_resposta = respostasCH[i]\n",
        "        linha_do_gabarito = gabaritoCH[i]\n",
        "        \n",
        "        resposta_candidato = linha_da_resposta[j]\n",
        "        resposta_gabarito = linha_do_gabarito[j]\n",
        "        \n",
        "        if resposta_candidato == resposta_gabarito:\n",
        "            acertos[j] = acertos[j] + 1\n",
        "            resposta_candidato = ''\n",
        "            resposta_gabarito = ''"
      ],
      "id": "yOXYg-yITKzg"
    },
    {
      "cell_type": "code",
      "execution_count": null,
      "metadata": {
        "scrolled": true,
        "id": "LJFMWgEjTKzg"
      },
      "outputs": [],
      "source": [
        "PROVA_CH_N = dadosN[dadosN.CO_PROVA_CH==510]\n",
        "PROVA_CH_N.reset_index(inplace=True)\n",
        "PN = ['TX_RESPOSTAS_CH', 'TX_GABARITO_CH']\n",
        "pchN = PROVA_CH_N.filter(items = PN)\n",
        "respostasCHN = pchN['TX_RESPOSTAS_CH']\n",
        "gabaritoCHN = pchN['TX_GABARITO_CH']"
      ],
      "id": "LJFMWgEjTKzg"
    },
    {
      "cell_type": "code",
      "execution_count": null,
      "metadata": {
        "id": "amGxD0-cTKzh"
      },
      "outputs": [],
      "source": [
        "acertosN = [0]*45\n",
        "for j in range(0, 45):\n",
        "    for i in range(0, 126):\n",
        "        linha_da_resposta = respostasCHN[i]\n",
        "        linha_do_gabarito = gabaritoCHN[i]\n",
        "        resposta_candidato = linha_da_resposta[j]\n",
        "        resposta_gabarito = linha_do_gabarito[j]\n",
        "        if resposta_candidato == resposta_gabarito:\n",
        "            acertosN[j] = acertosN[j] + 1\n",
        "            resposta_candidato = ''\n",
        "            resposta_gabarito = ''"
      ],
      "id": "amGxD0-cTKzh"
    },
    {
      "cell_type": "code",
      "execution_count": null,
      "metadata": {
        "id": "joYnm7_TTKzh"
      },
      "outputs": [],
      "source": [
        "acertos_pd = pd.DataFrame(acertos)\n",
        "acertosN_pd = pd.DataFrame(acertosN)"
      ],
      "id": "joYnm7_TTKzh"
    },
    {
      "cell_type": "code",
      "execution_count": null,
      "metadata": {
        "id": "deaiKgM0TKzi"
      },
      "outputs": [],
      "source": [
        "x = acertosN_pd\n",
        "y = acertosN_pd.index\n",
        "\n",
        "\n",
        "x1 = acertos_pd\n",
        "y1 = acertos_pd.index\n",
        "\n",
        "plt.scatter(y, x)\n",
        "ax = plt.scatter(y1, x1)\n",
        "plt.ylabel('Acertos', fontsize=18)\n",
        "plt.xlabel('Questões', fontsize=18)\n",
        "plt.title('Numero de Acertos:\\nQuestões de Ciências da Natureza, ROSA.\\n Baixa Visão VS Visão Normal', fontsize = 18)\n",
        "\n",
        "limits = [-1,50]\n",
        "limits1 = [0,126]\n",
        "sec_lim = 1000\n",
        "bp = 45\n",
        "\n",
        "ax = plt.gca()\n",
        "ax.set_xlim(limits)\n",
        "ax.set_ylim(limits1)\n",
        "ax.scatter(y, x, s=1, c='blue', alpha=1)\n",
        "ax.scatter(y1, x1, s=1, c='red', alpha=1)\n",
        "\n",
        "cores=['Baixa Visão', 'Visão Normal']\n",
        "plt.legend(cores, bbox_to_anchor=(1.5, 1), loc='upper right')\n",
        "\n",
        "plt.plot(x)\n",
        "plt.plot(x1)\n",
        "plt.show()"
      ],
      "id": "deaiKgM0TKzi"
    },
    {
      "cell_type": "code",
      "execution_count": null,
      "metadata": {
        "id": "7Cn0PypsTKzi"
      },
      "outputs": [],
      "source": [
        ""
      ],
      "id": "7Cn0PypsTKzi"
    }
  ],
  "metadata": {
    "colab": {
      "collapsed_sections": [
        "3o3vUrMyQTa9",
        "XjXP8DA9uJl6",
        "wPa6JpEpuKEo"
      ],
      "name": "Version_3_65.ipynb",
      "provenance": [],
      "include_colab_link": true
    },
    "kernelspec": {
      "display_name": "Python 3",
      "language": "python",
      "name": "python3"
    },
    "language_info": {
      "codemirror_mode": {
        "name": "ipython",
        "version": 3
      },
      "file_extension": ".py",
      "mimetype": "text/x-python",
      "name": "python",
      "nbconvert_exporter": "python",
      "pygments_lexer": "ipython3",
      "version": "3.7.1"
    }
  },
  "nbformat": 4,
  "nbformat_minor": 5
}